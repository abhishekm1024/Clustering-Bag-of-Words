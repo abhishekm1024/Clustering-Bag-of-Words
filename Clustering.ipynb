{
 "cells": [
  {
   "cell_type": "markdown",
   "metadata": {},
   "source": [
    "Unsupervised Learning: K Means Clustering\n",
    "\n",
    "The aim of this assignment is to classify documents in the three datasets (Enron emails, NIPS full papers & KOS Blog Entries) using k-means clustering & determine an optimal k is each data set.\n",
    "\n",
    "A similarity measure named Jaccard Index or Jaccard Similarity Coefficient is used to measure the similairty between 2 documents. \n",
    "The Jaccard coefficient measures similarity between finite sample sets, and is defined as the size of the intersection divided by the size of the union of the sample sets:\n",
    "$J = \\dfrac{(A\\cap B)}{(A\\cup B)}$\n",
    "\n",
    "The Jaccard coefficient for any two sets is within the range [0, 1]. A higher score indicates a large number of common items in comparison with the total count of elements in sets. Accordingly, high scores for the Jaccard coefficient signify a high degree of similarity. \n",
    "\n",
    "Methodology:\n",
    "\n",
    "For KOS Blog Entries & NIPS datasets, the entire docword.text dataset has been used, for Enron emails dataset as the data is huge, Simple Random Sampling has been used & 4000 random documents have been selected. Since the information about the various document types is unknown, stratified sampling is not used. SRS ensures proper representation of the dataset.\n",
    "\n",
    "Each of the datasets are converted into sparse matrices, each row is a data point & each column in , A[i][j] is 0/1 based on whether ith document has the jth word from the vocabulary of a dataset.\n",
    "Using this matrix as input, a modified K-means has been applied to obtain clusters.\n",
    "\n",
    "Details of Class 'Jaccard_K_Means()':\n",
    "1. We initalize k random data points/documents as centroids using *initialise_centroids* function (similar to the approach followed by sklearn.KMeans)\n",
    "2. The Jaccard Distance of each document from each centroid is calculated using *get_j_dist* function for k centroids k*(D), instead of calculating Jaccard distance of each document with all other (D* D compuatations).\n",
    "3. Each document is then assigned to a cluster which has minimum Jaccard Distance from it's centroid using *assign_to_clusters* function.\n",
    "4. Now based on the clusters formed, we find the new centroid by finding the Eucliedean  mean of all data points within a cluster using *centroid_update* function\n",
    "5. The new centroid obtained is converted into a binary array using a threshold value which optimizes the inertia for a particular value of k in k-clusters using *get_new_cent* function.\n",
    "5. Now all data points are reassigned to various clusters based on these updated centroids. These iterations continue until either the number of iterations cross max_iter or relative distance between the previous & current centroid for the given cluster is below the tolerance (tol). \n",
    "6. Using these clusters, Inertia is calculated for all data points, where Inertia is the sum of squared distances of documents to their closest cluster centroid.\n",
    "7. This measure of Inertia is calculated for 10 values of k & plotted. The optimal k is noted at the elbow of the graph. \n",
    "\n",
    "\n",
    "Results:\n",
    "1. For KOS Blog Entries the graph is as follows:\n",
    "\n",
    "Looking at the graphs, k = 3 gives the ideal clusters which minimizes the inertia.\n",
    "\n",
    "2. For NIPS full papers the graph is as follows:\n",
    "\n",
    "Looking at the graphs, k = 8 gives the ideal clusters which minimizes the inertia.\n",
    "\n",
    "3. For Enron Emails the graph is as follows:\n",
    "\n",
    "Looking at the graphs, k = 7 gives the ideal clusters which minimizes the inertia."
   ]
  },
  {
   "cell_type": "code",
   "execution_count": 1,
   "metadata": {},
   "outputs": [],
   "source": [
    "import os\n",
    "import random\n",
    "import sklearn\n",
    "import matplotlib\n",
    "import matplotlib.pyplot as plt\n",
    "import pandas as pd\n",
    "import numpy as np\n",
    "import time\n",
    "import seaborn as sns\n",
    "from sklearn.metrics import pairwise_distances\n",
    "from scipy.spatial.distance import pdist\n",
    "from sklearn.decomposition import KernelPCA #1\n",
    "from mpl_toolkits.mplot3d import Axes3D #4, 20, 37\n",
    "from sklearn.decomposition import PCA #17, 33\n",
    "from mpl_toolkits.mplot3d import Axes3D #20\n",
    "import warnings\n",
    "from sklearn.exceptions import DataConversionWarning\n",
    "warnings.filterwarnings(action='ignore', category=DataConversionWarning)\n",
    "\n",
    "%matplotlib inline\n",
    "seed = random.seed(52)"
   ]
  },
  {
   "cell_type": "code",
   "execution_count": 44,
   "metadata": {},
   "outputs": [],
   "source": [
    "datafiles = ['docword.enron.txt', 'docword.nips.txt', 'docword.kos.txt'] \n",
    "dfs = [\"doc_enron_df\",\"doc_nips_df\", \"doc_kos_df\"]\n",
    "data={}\n",
    "j=0\n",
    "\n",
    "for i in datafiles:\n",
    "    data[dfs[j]] = pd.read_csv(i, skiprows =3, sep = \" \", header = None)\n",
    "    data[dfs[j]].columns = ['docID', 'wordID', 'freq']\n",
    "    j +=1\n",
    "    \n",
    "enron_df = data[\"doc_enron_df\"]\n",
    "nips_df = data[\"doc_nips_df\"]\n",
    "kos_df = data[\"doc_kos_df\"]\n"
   ]
  },
  {
   "cell_type": "code",
   "execution_count": 45,
   "metadata": {},
   "outputs": [],
   "source": [
    "# Making Matrix for all documents\n",
    "\n",
    "kos_docs = 3430\n",
    "kos_words = 6906\n",
    " \n",
    "nips_docs = 1500\n",
    "nips_words = 12419\n",
    "\n",
    "enron_docs = 39861\n",
    "enron_words = 28102\n",
    "\n",
    "kos = np.zeros(shape=(kos_docs,kos_words))\n",
    "for i, row in kos_df.iterrows():\n",
    "    kos[row['docID']-1,row['wordID']-1] = 1\n",
    "\n",
    "nips = np.zeros(shape=(nips_docs,nips_words))\n",
    "for i, row in nips_df.iterrows():\n",
    "    nips[row['docID']-1,row['wordID']-1] = 1\n"
   ]
  },
  {
   "cell_type": "code",
   "execution_count": 46,
   "metadata": {},
   "outputs": [],
   "source": [
    "random.seed(54)\n",
    "state = random.getstate()\n",
    "random.setstate(state)\n",
    "docs = random.choices(range(39861), k = 4000)\n",
    "docs.sort()\n",
    "enron_sample_mat = np.zeros(shape = (4000, enron_words), dtype = int)\n",
    "j=0\n",
    "for i in docs:\n",
    "    temp = enron_df[enron_df[\"docID\"] == i]\n",
    "    for k, row in temp.iterrows():\n",
    "        enron_sample_mat[j,row['wordID']-1]=1\n",
    "    j+=1\n"
   ]
  },
  {
   "cell_type": "code",
   "execution_count": 47,
   "metadata": {},
   "outputs": [],
   "source": [
    "# Defining function to get jaccard distance between the centroid and all points\n",
    "\n",
    "def get_j_dist(mat1, mat2):\n",
    "    j_dist_c = []\n",
    "    for i in range(mat1.shape[0]):\n",
    "        a = mat1[i:i+1,:]\n",
    "        b = mat2\n",
    "        temp_mat = np.concatenate((a,b),axis=0)\n",
    "        jdist = pairwise_distances(temp_mat, metric='jaccard')[0][1]\n",
    "        j_dist_c.append(jdist)\n",
    "\n",
    "    return j_dist_c\n",
    "\n",
    "# Defining KMeans using Jaccard class\n",
    "\n",
    "class Jaccard_K_Means():\n",
    "    def __init__(self, mat, num_c, n_init, max_iter, tol, thres, random_state = seed):\n",
    "        self.mat = mat\n",
    "        self.num_c = num_c\n",
    "        self.n_init = n_init\n",
    "        self.max_iter = max_iter\n",
    "        self.tol = tol\n",
    "        self.thres = thres\n",
    "        self.cnt_conv = 0\n",
    "        self.random_seed = random_state\n",
    "\n",
    "        for i in range(self.n_init):\n",
    "            clus_cent = self.initialise_centroids()\n",
    "\n",
    "            iter = 0\n",
    "            flag = 0\n",
    "            iner_list = []\n",
    "            clus_cent_list = []\n",
    "            clus_assign_list = []\n",
    "            while iter <= self.max_iter:\n",
    "                inertia, new_cent, dist_prv, clus_assign = self.centroid_update(clus_cent)\n",
    "                iter += 1\n",
    "                clus_cent = new_cent\n",
    "                if dist_prv < self.tol:\n",
    "                    iner_list.append(inertia)\n",
    "                    clus_cent_list.append(new_cent)\n",
    "                    clus_assign_list.append(clus_assign)\n",
    "                    flag = 1\n",
    "                    self.cnt_conv += 1\n",
    "                    break\n",
    "\n",
    "            if flag == 0:\n",
    "                iner_list.append(inertia)\n",
    "                clus_cent_list.append(new_cent)\n",
    "                clus_assign_list.append(clus_assign)\n",
    "        \n",
    "        for i in range(self.n_init):\n",
    "            min_iner = min(iner_list)\n",
    "            min_iner_ind = iner_list.index(min_iner)\n",
    "            self.inertia = iner_list[min_iner_ind]\n",
    "            self.clus_cent = clus_cent_list[min_iner_ind]\n",
    "            self.clus_assign = clus_assign_list[min_iner_ind]\n",
    "\n",
    "    def initialise_centroids(self):\n",
    "        random.seed(self.random_seed)\n",
    "        cen = random.sample(list(range(self.mat.shape[0])),self.num_c)\n",
    "        init_cent = np.zeros((len(cen), self.mat.shape[1]))\n",
    "        for i in range(len(cen)):\n",
    "            init_cent[i,:] = self.mat[cen[i],:]\n",
    "\n",
    "        return init_cent\n",
    "\n",
    "    def centroid_update(self, clus_cent):\n",
    "        cent_n = clus_cent.shape[0]\n",
    "        jd_cen = np.zeros((cent_n, self.mat.shape[0]))\n",
    "        temp_jd = []\n",
    "        for i in range(cent_n):\n",
    "            temp_jd = get_j_dist(self.mat, clus_cent[i:i+1,:])\n",
    "            jd_cen[i,:] = temp_jd\n",
    "\n",
    "        clus_assign = self.assign_to_clusters(jd_cen)\n",
    "        inertia = self.get_inertia(clus_assign)\n",
    "        new_cent = self.get_new_cent(clus_assign, clus_cent)\n",
    "\n",
    "        dist_prv = 0\n",
    "        for i in range(cent_n):\n",
    "            prv_c = clus_cent[i,:]\n",
    "            new_c = new_cent[i,:]\n",
    "            dist_prv += np.linalg.norm(prv_c - new_c)**2\n",
    "        dist_prv = np.sqrt(dist_prv)\n",
    "\n",
    "        return inertia, new_cent, dist_prv, clus_assign\n",
    "\n",
    "    def assign_to_clusters(self, jd_cen):\n",
    "        clus_assign = []\n",
    "        for i in range(self.mat.shape[0]):\n",
    "            min_d = min(jd_cen[:,i])\n",
    "            min_d_index = np.where(jd_cen[:,i] == min_d)[0][0]\n",
    "            clus_assign.append((i,min_d_index,min_d))\n",
    "\n",
    "        return clus_assign\n",
    "\n",
    "    def get_inertia(self, clus_assign):\n",
    "        inertia = 0\n",
    "        for i in range(len(clus_assign)):\n",
    "            inertia += clus_assign[i][2]**2\n",
    "\n",
    "        return inertia\n",
    "    \n",
    "    def get_new_cent(self, clus_assign, clus_cent):\n",
    "        cent_n = clus_cent.shape[0]\n",
    "        new_cent = np.zeros(shape=(cent_n, self.mat.shape[1]))\n",
    "        for i in range(cent_n):\n",
    "            cnt_clus = 0\n",
    "            for j in range(len(clus_assign)):\n",
    "                if clus_assign[j][1] == i:\n",
    "                    new_cent[i,:] = new_cent[i,:] + self.mat[j,:]\n",
    "                    cnt_clus += 1\n",
    "                else:\n",
    "                    pass\n",
    "            \n",
    "            if cnt_clus != 0:\n",
    "                new_cent[i,:] = new_cent[i,:]*(1/cnt_clus)\n",
    "            else:\n",
    "                pass\n",
    "        \n",
    "        for i in range(new_cent.shape[0]):\n",
    "            for j in range(new_cent.shape[1]):\n",
    "                if new_cent[i,j] < self.thres:\n",
    "                    new_cent[i,j] = 0\n",
    "                else:\n",
    "                    new_cent[i,j] = 1\n",
    "\n",
    "        return new_cent"
   ]
  },
  {
   "cell_type": "code",
   "execution_count": 66,
   "metadata": {},
   "outputs": [
    {
     "name": "stdout",
     "output_type": "stream",
     "text": [
      "Wall time: 54min 55s\n"
     ]
    }
   ],
   "source": [
    "%%time\n",
    "iner = []\n",
    "k_list = list(range(2,11))\n",
    "for i in range(2,11):\n",
    "    k_model = Jaccard_K_Means(kos, num_c=i, n_init=10, max_iter=300, tol=10**-2, thres=0.1)\n",
    "    iner.append(k_model.inertia)"
   ]
  },
  {
   "cell_type": "code",
   "execution_count": 67,
   "metadata": {},
   "outputs": [
    {
     "data": {
      "image/png": "[encoded data removed]",
      "text/plain": [
       "<Figure size 432x288 with 1 Axes>"
      ]
     },
     "metadata": {
      "needs_background": "light"
     },
     "output_type": "display_data"
    }
   ],
   "source": [
    "sns.lineplot(x=k_list,y=iner)\n",
    "plt.show()"
   ]
  },
  {
   "cell_type": "code",
   "execution_count": 62,
   "metadata": {},
   "outputs": [
    {
     "name": "stdout",
     "output_type": "stream",
     "text": [
      "Wall time: 51min 10s\n"
     ]
    }
   ],
   "source": [
    "%%time\n",
    "iner = []\n",
    "k_list = list(range(2,11))\n",
    "for i in range(2,11):\n",
    "    k_model = Jaccard_K_Means(nips, num_c=i, n_init=10, max_iter=300, tol=10**-2, thres=0.2)\n",
    "    iner.append(k_model.inertia)"
   ]
  },
  {
   "cell_type": "code",
   "execution_count": 63,
   "metadata": {},
   "outputs": [
    {
     "data": {
      "image/png": "[encoded data removed]",
      "text/plain": [
       "<Figure size 432x288 with 1 Axes>"
      ]
     },
     "metadata": {
      "needs_background": "light"
     },
     "output_type": "display_data"
    }
   ],
   "source": [
    "sns.lineplot(x=k_list,y=iner)\n",
    "plt.show()"
   ]
  },
  {
   "cell_type": "code",
   "execution_count": 50,
   "metadata": {},
   "outputs": [
    {
     "name": "stdout",
     "output_type": "stream",
     "text": [
      "Wall time: 1h 23min 53s\n"
     ]
    }
   ],
   "source": [
    "%%time\n",
    "iner = []\n",
    "k_list = list(range(2,11))\n",
    "for i in range(2,11):\n",
    "    k_model = Jaccard_K_Means(enron_sample_mat, num_c=i, n_init=10, max_iter=300, tol=10**-2, thres=0.1)\n",
    "    iner.append(k_model.inertia)"
   ]
  },
  {
   "cell_type": "code",
   "execution_count": 51,
   "metadata": {},
   "outputs": [
    {
     "data": {
      "image/png": "[encoded data removed]",
      "text/plain": [
       "<Figure size 432x288 with 1 Axes>"
      ]
     },
     "metadata": {
      "needs_background": "light"
     },
     "output_type": "display_data"
    }
   ],
   "source": [
    "sns.lineplot(x=k_list,y=iner)\n",
    "plt.show()"
   ]
  }
 ],
 "metadata": {
  "celltoolbar": "Tags",
  "interpreter": {
   "hash": "23581b00d404640ee2f45dc5e2650f8292bbde90670320608878a042f8e60d6b"
  },
  "kernelspec": {
   "display_name": "Python 3 (ipykernel)",
   "language": "python",
   "name": "python3"
  },
  "language_info": {
   "codemirror_mode": {
    "name": "ipython",
    "version": 3
   },
   "file_extension": ".py",
   "mimetype": "text/x-python",
   "name": "python",
   "nbconvert_exporter": "python",
   "pygments_lexer": "ipython3",
   "version": "3.9.7"
  }
 },
 "nbformat": 4,
 "nbformat_minor": 2
}
